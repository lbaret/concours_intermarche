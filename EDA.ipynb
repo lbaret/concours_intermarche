{
 "cells": [
  {
   "cell_type": "code",
   "execution_count": 1,
   "id": "toxic-aside",
   "metadata": {},
   "outputs": [],
   "source": [
    "from config import *\n",
    "\n",
    "import pandas as pd\n",
    "import numpy as np\n",
    "from scipy.stats import pearsonr\n",
    "\n",
    "import matplotlib.pyplot as plt\n",
    "import seaborn as sns\n",
    "\n",
    "import matplotlib as mpl\n",
    "mpl.rcParams['figure.figsize'] = (20, 10)\n",
    "\n",
    "import re\n",
    "import random"
   ]
  },
  {
   "cell_type": "markdown",
   "id": "imposed-above",
   "metadata": {},
   "source": [
    "# À la découverte des données d'intermarché"
   ]
  },
  {
   "cell_type": "code",
   "execution_count": 2,
   "id": "nervous-fashion",
   "metadata": {},
   "outputs": [],
   "source": [
    "df_nomenclature = pd.read_csv(join(DATA_DIR, 'nomenclature_produits.csv'))\n",
    "df_pdv = pd.read_csv(join(DATA_DIR, 'points_de_vente.csv'))\n",
    "df_pv = pd.read_csv(join(DATA_DIR, 'prix_vente.csv'))\n",
    "df_v = pd.read_csv(join(DATA_DIR, 'ventes_2018.csv'))"
   ]
  },
  {
   "cell_type": "markdown",
   "id": "honey-bottle",
   "metadata": {},
   "source": [
    "# Nomenclature"
   ]
  },
  {
   "cell_type": "code",
   "execution_count": 3,
   "id": "sonic-honduras",
   "metadata": {},
   "outputs": [
    {
     "data": {
      "text/plain": [
       "Index(['ID_ARTC', 'LB_VENT_RAYN', 'LB_VENT_FAML', 'LB_VENT_SOUS_FAML'], dtype='object')"
      ]
     },
     "execution_count": 3,
     "metadata": {},
     "output_type": "execute_result"
    }
   ],
   "source": [
    "df_nomenclature.columns"
   ]
  },
  {
   "cell_type": "code",
   "execution_count": 4,
   "id": "ranging-repository",
   "metadata": {},
   "outputs": [
    {
     "data": {
      "text/plain": [
       "ID_ARTC               int64\n",
       "LB_VENT_RAYN         object\n",
       "LB_VENT_FAML         object\n",
       "LB_VENT_SOUS_FAML    object\n",
       "dtype: object"
      ]
     },
     "execution_count": 4,
     "metadata": {},
     "output_type": "execute_result"
    }
   ],
   "source": [
    "df_nomenclature.dtypes"
   ]
  },
  {
   "cell_type": "code",
   "execution_count": 5,
   "id": "monetary-excess",
   "metadata": {},
   "outputs": [
    {
     "data": {
      "text/html": [
       "<div>\n",
       "<style scoped>\n",
       "    .dataframe tbody tr th:only-of-type {\n",
       "        vertical-align: middle;\n",
       "    }\n",
       "\n",
       "    .dataframe tbody tr th {\n",
       "        vertical-align: top;\n",
       "    }\n",
       "\n",
       "    .dataframe thead th {\n",
       "        text-align: right;\n",
       "    }\n",
       "</style>\n",
       "<table border=\"1\" class=\"dataframe\">\n",
       "  <thead>\n",
       "    <tr style=\"text-align: right;\">\n",
       "      <th></th>\n",
       "      <th>ID_ARTC</th>\n",
       "      <th>LB_VENT_RAYN</th>\n",
       "      <th>LB_VENT_FAML</th>\n",
       "      <th>LB_VENT_SOUS_FAML</th>\n",
       "    </tr>\n",
       "  </thead>\n",
       "  <tbody>\n",
       "    <tr>\n",
       "      <th>0</th>\n",
       "      <td>905</td>\n",
       "      <td>CREMERIE LS</td>\n",
       "      <td>ULTRA FRAIS</td>\n",
       "      <td>ULTRA FRAIS - SS-FAML 2</td>\n",
       "    </tr>\n",
       "    <tr>\n",
       "      <th>1</th>\n",
       "      <td>477</td>\n",
       "      <td>LIQUIDES</td>\n",
       "      <td>BOISSONS GAZEUSES ET PLATES</td>\n",
       "      <td>BOISSONS GAZEUSES ET PLATES - SS-FAML 6</td>\n",
       "    </tr>\n",
       "    <tr>\n",
       "      <th>2</th>\n",
       "      <td>863</td>\n",
       "      <td>LIQUIDES</td>\n",
       "      <td>BIERES ET CIDRES</td>\n",
       "      <td>BIERES ET CIDRES - SS-FAML 2</td>\n",
       "    </tr>\n",
       "    <tr>\n",
       "      <th>3</th>\n",
       "      <td>1741</td>\n",
       "      <td>EPICERIE SUCREE</td>\n",
       "      <td>CAFES / CHICOREE</td>\n",
       "      <td>CAFES / CHICOREE - SS-FAML 2</td>\n",
       "    </tr>\n",
       "    <tr>\n",
       "      <th>4</th>\n",
       "      <td>983</td>\n",
       "      <td>CREMERIE LS</td>\n",
       "      <td>FROMAGE LS</td>\n",
       "      <td>FROMAGE LS - SS-FAML 2</td>\n",
       "    </tr>\n",
       "    <tr>\n",
       "      <th>...</th>\n",
       "      <td>...</td>\n",
       "      <td>...</td>\n",
       "      <td>...</td>\n",
       "      <td>...</td>\n",
       "    </tr>\n",
       "    <tr>\n",
       "      <th>2495</th>\n",
       "      <td>370</td>\n",
       "      <td>BAZAR LEGER</td>\n",
       "      <td>ACCESSOIRE / GADGET DE CUISINE</td>\n",
       "      <td>ACCESSOIRE / GADGET DE CUISINE</td>\n",
       "    </tr>\n",
       "    <tr>\n",
       "      <th>2496</th>\n",
       "      <td>308</td>\n",
       "      <td>CREMERIE LS</td>\n",
       "      <td>FROMAGE LS</td>\n",
       "      <td>FROMAGE LS - SS-FAML 1</td>\n",
       "    </tr>\n",
       "    <tr>\n",
       "      <th>2497</th>\n",
       "      <td>2467</td>\n",
       "      <td>D.P.H.</td>\n",
       "      <td>ACCESSOIRES COIFFANT/TOILETTE</td>\n",
       "      <td>ACCESSOIRES COIFFANT/TOILETTE</td>\n",
       "    </tr>\n",
       "    <tr>\n",
       "      <th>2498</th>\n",
       "      <td>540</td>\n",
       "      <td>CHARCUTERIE TRAITEUR LS</td>\n",
       "      <td>TRAITEUR LS</td>\n",
       "      <td>TRAITEUR LS - SS-FAML 7</td>\n",
       "    </tr>\n",
       "    <tr>\n",
       "      <th>2499</th>\n",
       "      <td>631</td>\n",
       "      <td>EPICERIE SUCREE</td>\n",
       "      <td>BISCUITERIE</td>\n",
       "      <td>BISCUITERIE - SS-FAML 1</td>\n",
       "    </tr>\n",
       "  </tbody>\n",
       "</table>\n",
       "<p>2500 rows × 4 columns</p>\n",
       "</div>"
      ],
      "text/plain": [
       "      ID_ARTC             LB_VENT_RAYN                    LB_VENT_FAML  \\\n",
       "0         905              CREMERIE LS                     ULTRA FRAIS   \n",
       "1         477                 LIQUIDES     BOISSONS GAZEUSES ET PLATES   \n",
       "2         863                 LIQUIDES                BIERES ET CIDRES   \n",
       "3        1741          EPICERIE SUCREE                CAFES / CHICOREE   \n",
       "4         983              CREMERIE LS                      FROMAGE LS   \n",
       "...       ...                      ...                             ...   \n",
       "2495      370              BAZAR LEGER  ACCESSOIRE / GADGET DE CUISINE   \n",
       "2496      308              CREMERIE LS                      FROMAGE LS   \n",
       "2497     2467                   D.P.H.   ACCESSOIRES COIFFANT/TOILETTE   \n",
       "2498      540  CHARCUTERIE TRAITEUR LS                     TRAITEUR LS   \n",
       "2499      631          EPICERIE SUCREE                     BISCUITERIE   \n",
       "\n",
       "                            LB_VENT_SOUS_FAML  \n",
       "0                     ULTRA FRAIS - SS-FAML 2  \n",
       "1     BOISSONS GAZEUSES ET PLATES - SS-FAML 6  \n",
       "2                BIERES ET CIDRES - SS-FAML 2  \n",
       "3                CAFES / CHICOREE - SS-FAML 2  \n",
       "4                      FROMAGE LS - SS-FAML 2  \n",
       "...                                       ...  \n",
       "2495           ACCESSOIRE / GADGET DE CUISINE  \n",
       "2496                   FROMAGE LS - SS-FAML 1  \n",
       "2497            ACCESSOIRES COIFFANT/TOILETTE  \n",
       "2498                  TRAITEUR LS - SS-FAML 7  \n",
       "2499                  BISCUITERIE - SS-FAML 1  \n",
       "\n",
       "[2500 rows x 4 columns]"
      ]
     },
     "execution_count": 5,
     "metadata": {},
     "output_type": "execute_result"
    }
   ],
   "source": [
    "df_nomenclature"
   ]
  },
  {
   "cell_type": "code",
   "execution_count": 6,
   "id": "attempted-galaxy",
   "metadata": {},
   "outputs": [
    {
     "data": {
      "text/plain": [
       "EPICERIE SUCREE              400\n",
       "CREMERIE LS                  376\n",
       "EPICERIE SALEE               368\n",
       "LIQUIDES                     340\n",
       "D.P.H.                       322\n",
       "CHARCUTERIE TRAITEUR LS      213\n",
       "BAZAR LEGER                  150\n",
       "SURGELES                     102\n",
       "PAIN PAT LS INDUS             69\n",
       "ALIMENTATION POUR ANIMAUX     57\n",
       "FRUITS ET LEGUMES             46\n",
       "BOUCHERIE LS                  23\n",
       "SAURISSERIE                   18\n",
       "VOLAILLE LS                   16\n",
       "Name: LB_VENT_RAYN, dtype: int64"
      ]
     },
     "execution_count": 6,
     "metadata": {},
     "output_type": "execute_result"
    }
   ],
   "source": [
    "df_nomenclature['LB_VENT_RAYN'].value_counts()"
   ]
  },
  {
   "cell_type": "code",
   "execution_count": 7,
   "id": "informal-continuity",
   "metadata": {
    "scrolled": false
   },
   "outputs": [
    {
     "data": {
      "text/plain": [
       "ULTRA FRAIS                    130\n",
       "FROMAGE LS                     113\n",
       "TRAITEUR LS                    102\n",
       "CHARCUTERIE LS ET SALAISON      98\n",
       "BOISSONS GAZEUSES ET PLATES     70\n",
       "                              ... \n",
       "SECHANT / REPASSANT              1\n",
       "ALIMENTS POUR OISEAUX            1\n",
       "DROGUERIE                        1\n",
       "PLEIN AIR - CAMPING              1\n",
       "LUBRIFIANTS                      1\n",
       "Name: LB_VENT_FAML, Length: 135, dtype: int64"
      ]
     },
     "execution_count": 7,
     "metadata": {},
     "output_type": "execute_result"
    }
   ],
   "source": [
    "df_nomenclature['LB_VENT_FAML'].value_counts()"
   ]
  },
  {
   "cell_type": "code",
   "execution_count": 8,
   "id": "valid-accused",
   "metadata": {},
   "outputs": [
    {
     "data": {
      "text/plain": [
       "ULTRA FRAIS - SS-FAML 1                     56\n",
       "FROMAGE LS - SS-FAML 1                      51\n",
       "ULTRA FRAIS - SS-FAML 2                     50\n",
       "BEURRE LS                                   36\n",
       "F/L RAYON REFRIGERE                         30\n",
       "                                            ..\n",
       "FONTAINE A VIN - SS-FAML 1                   1\n",
       "BISCUITERIE - SS-FAML 5                      1\n",
       "PLATS CUISINES ET A PREPARER - SS-FAML 2     1\n",
       "SAUCE SALADE/JUS DE CITRON - SS-FAML 4       1\n",
       "ACCESSOIRES CHATS - SS-FAML 2                1\n",
       "Name: LB_VENT_SOUS_FAML, Length: 466, dtype: int64"
      ]
     },
     "execution_count": 8,
     "metadata": {},
     "output_type": "execute_result"
    }
   ],
   "source": [
    "df_nomenclature['LB_VENT_SOUS_FAML'].value_counts()"
   ]
  },
  {
   "cell_type": "markdown",
   "id": "fallen-hampton",
   "metadata": {},
   "source": [
    "# Points de ventes"
   ]
  },
  {
   "cell_type": "code",
   "execution_count": 9,
   "id": "downtown-overall",
   "metadata": {},
   "outputs": [
    {
     "data": {
      "text/plain": [
       "Index(['ID_PDV', 'ID_VOCT', 'ID_REGN', 'NB_CAIS_GRP', 'SURF_GRP'], dtype='object')"
      ]
     },
     "execution_count": 9,
     "metadata": {},
     "output_type": "execute_result"
    }
   ],
   "source": [
    "df_pdv.columns"
   ]
  },
  {
   "cell_type": "code",
   "execution_count": 10,
   "id": "otherwise-level",
   "metadata": {},
   "outputs": [
    {
     "data": {
      "text/plain": [
       "ID_PDV          int64\n",
       "ID_VOCT        object\n",
       "ID_REGN        object\n",
       "NB_CAIS_GRP    object\n",
       "SURF_GRP       object\n",
       "dtype: object"
      ]
     },
     "execution_count": 10,
     "metadata": {},
     "output_type": "execute_result"
    }
   ],
   "source": [
    "df_pdv.dtypes"
   ]
  },
  {
   "cell_type": "code",
   "execution_count": 11,
   "id": "aging-omaha",
   "metadata": {},
   "outputs": [
    {
     "data": {
      "text/plain": [
       "array(['RGN_1', 'RGN_4', 'RGN_7', 'RGN_8', 'RGN_2', 'RGN_3', 'RGN_5',\n",
       "       'RGN_6'], dtype=object)"
      ]
     },
     "execution_count": 11,
     "metadata": {},
     "output_type": "execute_result"
    }
   ],
   "source": [
    "df_pdv['ID_REGN'].unique()"
   ]
  },
  {
   "cell_type": "code",
   "execution_count": 12,
   "id": "stuck-tsunami",
   "metadata": {},
   "outputs": [
    {
     "data": {
      "text/plain": [
       "array(['NB_CAIS_G_1', 'NB_CAIS_G_4', 'NB_CAIS_G_2', 'NB_CAIS_G_3',\n",
       "       'NB_CAIS_G_5'], dtype=object)"
      ]
     },
     "execution_count": 12,
     "metadata": {},
     "output_type": "execute_result"
    }
   ],
   "source": [
    "df_pdv['NB_CAIS_GRP'].unique()"
   ]
  },
  {
   "cell_type": "code",
   "execution_count": 13,
   "id": "laden-pearl",
   "metadata": {},
   "outputs": [
    {
     "data": {
      "text/plain": [
       "array(['SURF_G_1', 'SURF_G_2', 'SURF_G_3', 'SURF_G_4', 'SURF_G_5'],\n",
       "      dtype=object)"
      ]
     },
     "execution_count": 13,
     "metadata": {},
     "output_type": "execute_result"
    }
   ],
   "source": [
    "df_pdv['SURF_GRP'].unique()"
   ]
  },
  {
   "cell_type": "code",
   "execution_count": 135,
   "id": "offensive-tampa",
   "metadata": {},
   "outputs": [
    {
     "data": {
      "text/plain": [
       "array(['VOC_1', 'VOC_4', 'VOC_5', 'VOC_2', 'VOC_3'], dtype=object)"
      ]
     },
     "execution_count": 135,
     "metadata": {},
     "output_type": "execute_result"
    }
   ],
   "source": [
    "df_pdv['ID_VOCT'].unique()"
   ]
  },
  {
   "cell_type": "code",
   "execution_count": 14,
   "id": "english-range",
   "metadata": {},
   "outputs": [
    {
     "data": {
      "text/plain": [
       "149"
      ]
     },
     "execution_count": 14,
     "metadata": {},
     "output_type": "execute_result"
    }
   ],
   "source": [
    "len(df_pdv)"
   ]
  },
  {
   "cell_type": "markdown",
   "id": "christian-rebecca",
   "metadata": {},
   "source": [
    "# Prix de ventes"
   ]
  },
  {
   "cell_type": "code",
   "execution_count": 15,
   "id": "contrary-index",
   "metadata": {},
   "outputs": [
    {
     "data": {
      "text/plain": [
       "Index(['ID_PDV', 'ID_ARTC', 'ANNEE', 'TRIMESTRE', 'PRIX_UNITAIRE'], dtype='object')"
      ]
     },
     "execution_count": 15,
     "metadata": {},
     "output_type": "execute_result"
    }
   ],
   "source": [
    "df_pv.columns"
   ]
  },
  {
   "cell_type": "code",
   "execution_count": 16,
   "id": "differential-poker",
   "metadata": {},
   "outputs": [
    {
     "data": {
      "text/plain": [
       "array(['Entre 3 et 3.99€', 'Entre 2 et 2.99€', 'Moins de 0.99€',\n",
       "       'Entre 1 et 1.99€', 'Entre 6 et 6.99€', 'Entre 4 et 4.99€',\n",
       "       'Entre 5 et 5.99€', 'Entre 12 et 13.99€', 'Entre 9 et 9.99€',\n",
       "       'Entre 10 et 11.99€', 'Entre 7 et 7.99€', 'Entre 18 et 19.99€',\n",
       "       'Entre 30 et 39.99€', 'Entre 14 et 15.99€', 'Entre 16 et 17.99€',\n",
       "       'Entre 8 et 8.99€', 'Entre 20 et 29.99€', 'Entre 40 et 49.99€'],\n",
       "      dtype=object)"
      ]
     },
     "execution_count": 16,
     "metadata": {},
     "output_type": "execute_result"
    }
   ],
   "source": [
    "df_pv['PRIX_UNITAIRE'].unique()"
   ]
  },
  {
   "cell_type": "markdown",
   "id": "another-duplicate",
   "metadata": {},
   "source": [
    "# Ventes 2018"
   ]
  },
  {
   "cell_type": "code",
   "execution_count": 17,
   "id": "sudden-verse",
   "metadata": {},
   "outputs": [
    {
     "data": {
      "text/plain": [
       "Index(['ID_PDV', 'ID_ARTC', 'DATE', 'QTE'], dtype='object')"
      ]
     },
     "execution_count": 17,
     "metadata": {},
     "output_type": "execute_result"
    }
   ],
   "source": [
    "df_v.columns"
   ]
  },
  {
   "cell_type": "code",
   "execution_count": 18,
   "id": "rental-science",
   "metadata": {},
   "outputs": [
    {
     "data": {
      "text/plain": [
       "ID_PDV      int64\n",
       "ID_ARTC     int64\n",
       "DATE       object\n",
       "QTE         int64\n",
       "dtype: object"
      ]
     },
     "execution_count": 18,
     "metadata": {},
     "output_type": "execute_result"
    }
   ],
   "source": [
    "df_v.dtypes"
   ]
  },
  {
   "cell_type": "code",
   "execution_count": 19,
   "id": "israeli-palestine",
   "metadata": {},
   "outputs": [],
   "source": [
    "df_v['DATE'] = pd.to_datetime(df_v['DATE'])"
   ]
  },
  {
   "cell_type": "code",
   "execution_count": 20,
   "id": "flush-armenia",
   "metadata": {},
   "outputs": [
    {
     "data": {
      "text/plain": [
       "32793018"
      ]
     },
     "execution_count": 20,
     "metadata": {},
     "output_type": "execute_result"
    }
   ],
   "source": [
    "len(df_v)"
   ]
  },
  {
   "cell_type": "markdown",
   "id": "bacterial-meeting",
   "metadata": {},
   "source": [
    "# Idées de traitement\n",
    "\n",
    "1. Corrélation entre NB_CAIS_GRP et SURF_GRP ✅\n",
    "2. Est-ce qu'un même article se vend à la même tranche de prix dans tous les centres ✅\n",
    "3. La distribution des articles par centre (vendent-ils tous les mêmes articles ?) ✅\n",
    "4. Est ce que les prix d'un même article sont plus élevés quand la surface est plus petite ? ✅\n",
    "5. Afficher les volumes pour un produit (séléctionné arbitrairement/aléatoirement) ✅\n",
    "6. Corrélation entre la quantité vendue et sa tranche de prix ? ✅\n",
    "7. Lien entre vocation (type de centre) et NB_CAIS_GRP/SURF_GRP ✅"
   ]
  },
  {
   "cell_type": "markdown",
   "id": "demanding-warren",
   "metadata": {},
   "source": [
    "## 1. NB_CAIS_GRP et SURF_GRP"
   ]
  },
  {
   "cell_type": "code",
   "execution_count": 21,
   "id": "after-button",
   "metadata": {},
   "outputs": [],
   "source": [
    "ordinal = re.compile(r'\\d')\n",
    "\n",
    "# Création variable ordinale\n",
    "nb_cais_grp = df_pdv['NB_CAIS_GRP'].apply(lambda x: ordinal.search(x)[0]).astype(np.int64)\n",
    "surf_grp = df_pdv['SURF_GRP'].apply(lambda x: ordinal.search(x)[0]).astype(np.int64)\n",
    "\n",
    "df_pdv['CAISSE_ORDINAL'] = nb_cais_grp\n",
    "df_pdv['SURFACE_ORDINAL'] = surf_grp"
   ]
  },
  {
   "cell_type": "code",
   "execution_count": 22,
   "id": "guilty-server",
   "metadata": {},
   "outputs": [
    {
     "data": {
      "text/plain": [
       "'47.65 %'"
      ]
     },
     "execution_count": 22,
     "metadata": {},
     "output_type": "execute_result"
    }
   ],
   "source": [
    "f\"{(nb_cais_grp == surf_grp).sum() / len(nb_cais_grp) * 100 :.2f} %\""
   ]
  },
  {
   "cell_type": "code",
   "execution_count": 23,
   "id": "enormous-sussex",
   "metadata": {},
   "outputs": [
    {
     "data": {
      "text/plain": [
       "0.8018498552364448"
      ]
     },
     "execution_count": 23,
     "metadata": {},
     "output_type": "execute_result"
    }
   ],
   "source": [
    "coef, _ = pearsonr(nb_cais_grp, surf_grp)\n",
    "coef"
   ]
  },
  {
   "cell_type": "code",
   "execution_count": 24,
   "id": "aging-juice",
   "metadata": {},
   "outputs": [
    {
     "data": {
      "image/png": "[encoded data removed]",
      "text/plain": [
       "<Figure size 1440x720 with 1 Axes>"
      ]
     },
     "metadata": {
      "needs_background": "light"
     },
     "output_type": "display_data"
    }
   ],
   "source": [
    "plt.figure(figsize=(20, 10))\n",
    "\n",
    "plt.scatter(nb_cais_grp, surf_grp, alpha=0.1)\n",
    "plt.title('Graphique des groupements du nombre de caisses vs. surface du magasin')\n",
    "plt.xlabel('Groupement de nombre de caisses')\n",
    "plt.ylabel('Groupement de la surface du centre')\n",
    "\n",
    "plt.xticks([1, 2, 3, 4, 5], [1, 2, 3, 4, 5])\n",
    "plt.yticks([1, 2, 3, 4, 5], [1, 2, 3, 4, 5])\n",
    "\n",
    "plt.show()"
   ]
  },
  {
   "cell_type": "markdown",
   "id": "forty-retention",
   "metadata": {},
   "source": [
    "## 2. et 3. Même article = même prix partout ?"
   ]
  },
  {
   "cell_type": "code",
   "execution_count": 25,
   "id": "governing-newfoundland",
   "metadata": {},
   "outputs": [],
   "source": [
    "def get_different_price(id_artc):\n",
    "    l = []\n",
    "    _ = df_pv[(df_pv['ID_ARTC'] == id_artc) & (df_pv['ANNEE'] == 2018)].groupby('ID_PDV')['PRIX_ORDINAL'].unique().apply(lambda x: l.extend(x))\n",
    "    return set(l)"
   ]
  },
  {
   "cell_type": "code",
   "execution_count": 26,
   "id": "short-ballet",
   "metadata": {},
   "outputs": [
    {
     "name": "stdout",
     "output_type": "stream",
     "text": [
      "Article : 392 | Prix différents : {2, 3} | Combien de points de ventes le vendent : 146\n",
      "Article : 1780 | Prix différents : {3} | Combien de points de ventes le vendent : 142\n",
      "Article : 500 | Prix différents : {2, 3} | Combien de points de ventes le vendent : 149\n",
      "Article : 1736 | Prix différents : {2, 3} | Combien de points de ventes le vendent : 101\n",
      "Article : 2042 | Prix différents : {4, 5} | Combien de points de ventes le vendent : 97\n",
      "Article : 2046 | Prix différents : {3, 4, 5} | Combien de points de ventes le vendent : 38\n",
      "Article : 60 | Prix différents : {8, 5, 6, 7} | Combien de points de ventes le vendent : 142\n",
      "Article : 704 | Prix différents : {3, 4} | Combien de points de ventes le vendent : 149\n",
      "Article : 1731 | Prix différents : {8, 5, 6, 7} | Combien de points de ventes le vendent : 117\n",
      "Article : 1658 | Prix différents : {2} | Combien de points de ventes le vendent : 143\n"
     ]
    }
   ],
   "source": [
    "ids = random.sample(df_pv['ID_ARTC'].unique().tolist(), k=10)\n",
    "\n",
    "dict_assoc = {\n",
    "    'Moins de 0.99€': 1,\n",
    "    'Entre 1 et 1.99€': 2,\n",
    "    'Entre 2 et 2.99€': 3,\n",
    "    'Entre 3 et 3.99€': 4,\n",
    "    'Entre 4 et 4.99€': 5,\n",
    "    'Entre 5 et 5.99€': 6,\n",
    "    'Entre 6 et 6.99€': 7,\n",
    "    'Entre 7 et 7.99€': 8,\n",
    "    'Entre 8 et 8.99€': 9,\n",
    "    'Entre 9 et 9.99€': 10,\n",
    "    'Entre 10 et 11.99€': 11,\n",
    "    'Entre 12 et 13.99€': 12,\n",
    "    'Entre 14 et 15.99€': 13,\n",
    "    'Entre 16 et 17.99€': 14,\n",
    "    'Entre 18 et 19.99€': 15,\n",
    "    'Entre 20 et 29.99€': 16,\n",
    "    'Entre 30 et 39.99€': 17,\n",
    "    'Entre 40 et 49.99€': 18\n",
    "}\n",
    "\n",
    "df_pv['PRIX_ORDINAL'] = df_pv['PRIX_UNITAIRE'].apply(lambda x: dict_assoc[x]).astype(np.int64)\n",
    "\n",
    "for i in ids:\n",
    "    nb_pdvs = len(df_pv[df_pv['ID_ARTC'] == i]['ID_PDV'].unique())\n",
    "    print(f\"Article : {i} | Prix différents : {get_different_price(i)} | Combien de points de ventes le vendent : {nb_pdvs}\")"
   ]
  },
  {
   "cell_type": "markdown",
   "id": "assumed-solution",
   "metadata": {},
   "source": [
    "# 4. Lien entre la surface et le prix ?"
   ]
  },
  {
   "cell_type": "code",
   "execution_count": 27,
   "id": "domestic-cycle",
   "metadata": {},
   "outputs": [
    {
     "data": {
      "text/plain": [
       "0          44\n",
       "1          44\n",
       "2          44\n",
       "3          44\n",
       "4          44\n",
       "           ..\n",
       "1185310     8\n",
       "1185311     8\n",
       "1185312     8\n",
       "1185313     8\n",
       "1185314     8\n",
       "Name: ID_PDV, Length: 1185315, dtype: int64"
      ]
     },
     "execution_count": 27,
     "metadata": {},
     "output_type": "execute_result"
    }
   ],
   "source": [
    "df_pdv['ID_PDV']\n",
    "df_pv['ID_PDV']"
   ]
  },
  {
   "cell_type": "code",
   "execution_count": 28,
   "id": "vanilla-gospel",
   "metadata": {},
   "outputs": [],
   "source": [
    "df_sp = df_pv.merge(df_pdv, left_on='ID_PDV', right_on='ID_PDV')"
   ]
  },
  {
   "cell_type": "code",
   "execution_count": 29,
   "id": "surprising-camera",
   "metadata": {},
   "outputs": [
    {
     "data": {
      "text/plain": [
       "Index(['ID_PDV', 'ID_ARTC', 'ANNEE', 'TRIMESTRE', 'PRIX_UNITAIRE',\n",
       "       'PRIX_ORDINAL', 'ID_VOCT', 'ID_REGN', 'NB_CAIS_GRP', 'SURF_GRP',\n",
       "       'CAISSE_ORDINAL', 'SURFACE_ORDINAL'],\n",
       "      dtype='object')"
      ]
     },
     "execution_count": 29,
     "metadata": {},
     "output_type": "execute_result"
    }
   ],
   "source": [
    "df_sp.columns"
   ]
  },
  {
   "cell_type": "code",
   "execution_count": 30,
   "id": "collected-cornell",
   "metadata": {
    "scrolled": false
   },
   "outputs": [
    {
     "data": {
      "text/html": [
       "<div>\n",
       "<style scoped>\n",
       "    .dataframe tbody tr th:only-of-type {\n",
       "        vertical-align: middle;\n",
       "    }\n",
       "\n",
       "    .dataframe tbody tr th {\n",
       "        vertical-align: top;\n",
       "    }\n",
       "\n",
       "    .dataframe thead th {\n",
       "        text-align: right;\n",
       "    }\n",
       "</style>\n",
       "<table border=\"1\" class=\"dataframe\">\n",
       "  <thead>\n",
       "    <tr style=\"text-align: right;\">\n",
       "      <th></th>\n",
       "      <th>ID_PDV</th>\n",
       "      <th>ID_ARTC</th>\n",
       "      <th>ANNEE</th>\n",
       "      <th>TRIMESTRE</th>\n",
       "      <th>PRIX_UNITAIRE</th>\n",
       "      <th>PRIX_ORDINAL</th>\n",
       "      <th>ID_VOCT</th>\n",
       "      <th>ID_REGN</th>\n",
       "      <th>NB_CAIS_GRP</th>\n",
       "      <th>SURF_GRP</th>\n",
       "      <th>CAISSE_ORDINAL</th>\n",
       "      <th>SURFACE_ORDINAL</th>\n",
       "    </tr>\n",
       "  </thead>\n",
       "  <tbody>\n",
       "    <tr>\n",
       "      <th>4</th>\n",
       "      <td>44</td>\n",
       "      <td>543</td>\n",
       "      <td>2018</td>\n",
       "      <td>1</td>\n",
       "      <td>Entre 1 et 1.99€</td>\n",
       "      <td>2</td>\n",
       "      <td>VOC_4</td>\n",
       "      <td>RGN_1</td>\n",
       "      <td>NB_CAIS_G_5</td>\n",
       "      <td>SURF_G_4</td>\n",
       "      <td>5</td>\n",
       "      <td>4</td>\n",
       "    </tr>\n",
       "    <tr>\n",
       "      <th>17585</th>\n",
       "      <td>39</td>\n",
       "      <td>543</td>\n",
       "      <td>2018</td>\n",
       "      <td>1</td>\n",
       "      <td>Entre 1 et 1.99€</td>\n",
       "      <td>2</td>\n",
       "      <td>VOC_3</td>\n",
       "      <td>RGN_7</td>\n",
       "      <td>NB_CAIS_G_5</td>\n",
       "      <td>SURF_G_5</td>\n",
       "      <td>5</td>\n",
       "      <td>5</td>\n",
       "    </tr>\n",
       "    <tr>\n",
       "      <th>28169</th>\n",
       "      <td>34</td>\n",
       "      <td>543</td>\n",
       "      <td>2018</td>\n",
       "      <td>1</td>\n",
       "      <td>Entre 1 et 1.99€</td>\n",
       "      <td>2</td>\n",
       "      <td>VOC_3</td>\n",
       "      <td>RGN_1</td>\n",
       "      <td>NB_CAIS_G_5</td>\n",
       "      <td>SURF_G_5</td>\n",
       "      <td>5</td>\n",
       "      <td>5</td>\n",
       "    </tr>\n",
       "    <tr>\n",
       "      <th>29470</th>\n",
       "      <td>127</td>\n",
       "      <td>543</td>\n",
       "      <td>2018</td>\n",
       "      <td>1</td>\n",
       "      <td>Entre 1 et 1.99€</td>\n",
       "      <td>2</td>\n",
       "      <td>VOC_5</td>\n",
       "      <td>RGN_3</td>\n",
       "      <td>NB_CAIS_G_5</td>\n",
       "      <td>SURF_G_5</td>\n",
       "      <td>5</td>\n",
       "      <td>5</td>\n",
       "    </tr>\n",
       "    <tr>\n",
       "      <th>47003</th>\n",
       "      <td>142</td>\n",
       "      <td>543</td>\n",
       "      <td>2018</td>\n",
       "      <td>1</td>\n",
       "      <td>Entre 1 et 1.99€</td>\n",
       "      <td>2</td>\n",
       "      <td>VOC_5</td>\n",
       "      <td>RGN_6</td>\n",
       "      <td>NB_CAIS_G_5</td>\n",
       "      <td>SURF_G_5</td>\n",
       "      <td>5</td>\n",
       "      <td>5</td>\n",
       "    </tr>\n",
       "    <tr>\n",
       "      <th>...</th>\n",
       "      <td>...</td>\n",
       "      <td>...</td>\n",
       "      <td>...</td>\n",
       "      <td>...</td>\n",
       "      <td>...</td>\n",
       "      <td>...</td>\n",
       "      <td>...</td>\n",
       "      <td>...</td>\n",
       "      <td>...</td>\n",
       "      <td>...</td>\n",
       "      <td>...</td>\n",
       "      <td>...</td>\n",
       "    </tr>\n",
       "    <tr>\n",
       "      <th>1151388</th>\n",
       "      <td>77</td>\n",
       "      <td>543</td>\n",
       "      <td>2018</td>\n",
       "      <td>1</td>\n",
       "      <td>Entre 1 et 1.99€</td>\n",
       "      <td>2</td>\n",
       "      <td>VOC_4</td>\n",
       "      <td>RGN_4</td>\n",
       "      <td>NB_CAIS_G_2</td>\n",
       "      <td>SURF_G_2</td>\n",
       "      <td>2</td>\n",
       "      <td>2</td>\n",
       "    </tr>\n",
       "    <tr>\n",
       "      <th>1156693</th>\n",
       "      <td>16</td>\n",
       "      <td>543</td>\n",
       "      <td>2018</td>\n",
       "      <td>1</td>\n",
       "      <td>Entre 1 et 1.99€</td>\n",
       "      <td>2</td>\n",
       "      <td>VOC_1</td>\n",
       "      <td>RGN_5</td>\n",
       "      <td>NB_CAIS_G_2</td>\n",
       "      <td>SURF_G_2</td>\n",
       "      <td>2</td>\n",
       "      <td>2</td>\n",
       "    </tr>\n",
       "    <tr>\n",
       "      <th>1163478</th>\n",
       "      <td>2</td>\n",
       "      <td>543</td>\n",
       "      <td>2018</td>\n",
       "      <td>1</td>\n",
       "      <td>Entre 1 et 1.99€</td>\n",
       "      <td>2</td>\n",
       "      <td>VOC_1</td>\n",
       "      <td>RGN_2</td>\n",
       "      <td>NB_CAIS_G_1</td>\n",
       "      <td>SURF_G_1</td>\n",
       "      <td>1</td>\n",
       "      <td>1</td>\n",
       "    </tr>\n",
       "    <tr>\n",
       "      <th>1168965</th>\n",
       "      <td>23</td>\n",
       "      <td>543</td>\n",
       "      <td>2018</td>\n",
       "      <td>1</td>\n",
       "      <td>Entre 1 et 1.99€</td>\n",
       "      <td>2</td>\n",
       "      <td>VOC_1</td>\n",
       "      <td>RGN_8</td>\n",
       "      <td>NB_CAIS_G_2</td>\n",
       "      <td>SURF_G_1</td>\n",
       "      <td>2</td>\n",
       "      <td>1</td>\n",
       "    </tr>\n",
       "    <tr>\n",
       "      <th>1182803</th>\n",
       "      <td>38</td>\n",
       "      <td>543</td>\n",
       "      <td>2018</td>\n",
       "      <td>1</td>\n",
       "      <td>Entre 1 et 1.99€</td>\n",
       "      <td>2</td>\n",
       "      <td>VOC_3</td>\n",
       "      <td>RGN_6</td>\n",
       "      <td>NB_CAIS_G_5</td>\n",
       "      <td>SURF_G_5</td>\n",
       "      <td>5</td>\n",
       "      <td>5</td>\n",
       "    </tr>\n",
       "  </tbody>\n",
       "</table>\n",
       "<p>122 rows × 12 columns</p>\n",
       "</div>"
      ],
      "text/plain": [
       "         ID_PDV  ID_ARTC  ANNEE  TRIMESTRE     PRIX_UNITAIRE  PRIX_ORDINAL  \\\n",
       "4            44      543   2018          1  Entre 1 et 1.99€             2   \n",
       "17585        39      543   2018          1  Entre 1 et 1.99€             2   \n",
       "28169        34      543   2018          1  Entre 1 et 1.99€             2   \n",
       "29470       127      543   2018          1  Entre 1 et 1.99€             2   \n",
       "47003       142      543   2018          1  Entre 1 et 1.99€             2   \n",
       "...         ...      ...    ...        ...               ...           ...   \n",
       "1151388      77      543   2018          1  Entre 1 et 1.99€             2   \n",
       "1156693      16      543   2018          1  Entre 1 et 1.99€             2   \n",
       "1163478       2      543   2018          1  Entre 1 et 1.99€             2   \n",
       "1168965      23      543   2018          1  Entre 1 et 1.99€             2   \n",
       "1182803      38      543   2018          1  Entre 1 et 1.99€             2   \n",
       "\n",
       "        ID_VOCT ID_REGN  NB_CAIS_GRP  SURF_GRP  CAISSE_ORDINAL  \\\n",
       "4         VOC_4   RGN_1  NB_CAIS_G_5  SURF_G_4               5   \n",
       "17585     VOC_3   RGN_7  NB_CAIS_G_5  SURF_G_5               5   \n",
       "28169     VOC_3   RGN_1  NB_CAIS_G_5  SURF_G_5               5   \n",
       "29470     VOC_5   RGN_3  NB_CAIS_G_5  SURF_G_5               5   \n",
       "47003     VOC_5   RGN_6  NB_CAIS_G_5  SURF_G_5               5   \n",
       "...         ...     ...          ...       ...             ...   \n",
       "1151388   VOC_4   RGN_4  NB_CAIS_G_2  SURF_G_2               2   \n",
       "1156693   VOC_1   RGN_5  NB_CAIS_G_2  SURF_G_2               2   \n",
       "1163478   VOC_1   RGN_2  NB_CAIS_G_1  SURF_G_1               1   \n",
       "1168965   VOC_1   RGN_8  NB_CAIS_G_2  SURF_G_1               2   \n",
       "1182803   VOC_3   RGN_6  NB_CAIS_G_5  SURF_G_5               5   \n",
       "\n",
       "         SURFACE_ORDINAL  \n",
       "4                      4  \n",
       "17585                  5  \n",
       "28169                  5  \n",
       "29470                  5  \n",
       "47003                  5  \n",
       "...                  ...  \n",
       "1151388                2  \n",
       "1156693                2  \n",
       "1163478                1  \n",
       "1168965                1  \n",
       "1182803                5  \n",
       "\n",
       "[122 rows x 12 columns]"
      ]
     },
     "execution_count": 30,
     "metadata": {},
     "output_type": "execute_result"
    }
   ],
   "source": [
    "df_sp[(df_sp['ANNEE'] == 2018) & (df_sp['TRIMESTRE'] == 1) & (df_sp['ID_ARTC'] == 543)]"
   ]
  },
  {
   "cell_type": "markdown",
   "id": "nuclear-summary",
   "metadata": {},
   "source": [
    "# Merge des données en un DF"
   ]
  },
  {
   "cell_type": "markdown",
   "id": "center-horror",
   "metadata": {},
   "source": [
    "- Nomenclature : Index(['ID_ARTC', 'LB_VENT_RAYN', 'LB_VENT_FAML', 'LB_VENT_SOUS_FAML'], dtype='object')\n",
    "- Points de ventes (pdv) : Index(['ID_PDV', 'ID_VOCT', 'ID_REGN', 'NB_CAIS_GRP', 'SURF_GRP'], dtype='object')\n",
    "- Prix de vente (pv) : Index(['ID_PDV', 'ID_ARTC', 'ANNEE', 'TRIMESTRE', 'PRIX_UNITAIRE'], dtype='object')\n",
    "- Ventes (v) : Index(['ID_PDV', 'ID_ARTC', 'DATE', 'QTE'], dtype='object')\n",
    "\n",
    "**Trimestres :**\n",
    "- de janvier à mars  \n",
    "- d'avril à juin  \n",
    "- de juillet à septembre  \n",
    "- d'octobre à décembre  "
   ]
  },
  {
   "cell_type": "markdown",
   "id": "failing-greeting",
   "metadata": {},
   "source": [
    "Voir pour ajouter les informations suivantes :\n",
    "- Jour de la semaine\n",
    "- Mois dans l'année"
   ]
  },
  {
   "cell_type": "code",
   "execution_count": 69,
   "id": "damaged-papua",
   "metadata": {},
   "outputs": [],
   "source": [
    "df_v['TRIMESTRE'] = df_v['DATE'].dt.quarter\n",
    "df_v['ANNEE'] = df_v['DATE'].dt.year\n",
    "\n",
    "df_train = df_v.merge(df_pv, left_on=['ID_PDV', 'ID_ARTC', 'TRIMESTRE', 'ANNEE'], right_on=['ID_PDV', 'ID_ARTC', 'TRIMESTRE', 'ANNEE'])\n",
    "\n",
    "df_train = df_train.merge(df_pdv, left_on='ID_PDV', right_on='ID_PDV')\n",
    "\n",
    "df_train = df_train.merge(df_nomenclature, left_on='ID_ARTC', right_on='ID_ARTC')"
   ]
  },
  {
   "cell_type": "markdown",
   "id": "respective-madison",
   "metadata": {},
   "source": [
    "# 5. Volumes pour un produit"
   ]
  },
  {
   "cell_type": "code",
   "execution_count": 117,
   "id": "involved-identifier",
   "metadata": {},
   "outputs": [
    {
     "data": {
      "image/png": "[encoded data removed]",
      "text/plain": [
       "<Figure size 1440x720 with 1 Axes>"
      ]
     },
     "metadata": {
      "needs_background": "light"
     },
     "output_type": "display_data"
    }
   ],
   "source": [
    "article = random.choice(list(df_train['ID_ARTC'].unique()))\n",
    "point_de_vente = random.choice(df_train['ID_PDV'])\n",
    "\n",
    "df_visu = df_train[df_train['ID_PDV'] == point_de_vente]\n",
    "\n",
    "df_affichage = df_visu[df_visu['ID_ARTC'] == articles[i]][['DATE', 'QTE']]\n",
    "df_affichage.set_index('DATE').plot(figsize=(20, 10), marker='.')\n",
    "\n",
    "plt.xlabel('Date')\n",
    "plt.ylabel('Quantité vendue')\n",
    "plt.show()"
   ]
  },
  {
   "cell_type": "markdown",
   "id": "major-breath",
   "metadata": {},
   "source": [
    "# 6. Évolution de la quantité vendue par rapport au prix"
   ]
  },
  {
   "cell_type": "code",
   "execution_count": 121,
   "id": "ahead-boulder",
   "metadata": {},
   "outputs": [],
   "source": [
    "qte = df_train.groupby('ID_ARTC')['QTE'].sum()"
   ]
  },
  {
   "cell_type": "code",
   "execution_count": 122,
   "id": "flexible-smith",
   "metadata": {},
   "outputs": [
    {
     "data": {
      "text/plain": [
       "ID_ARTC\n",
       "1       1026164\n",
       "2        653425\n",
       "3       1100522\n",
       "4        582263\n",
       "5        111158\n",
       "         ...   \n",
       "2496        509\n",
       "2497       1210\n",
       "2498       1105\n",
       "2499        828\n",
       "2500        538\n",
       "Name: QTE, Length: 2500, dtype: int64"
      ]
     },
     "execution_count": 122,
     "metadata": {},
     "output_type": "execute_result"
    }
   ],
   "source": [
    "qte"
   ]
  },
  {
   "cell_type": "code",
   "execution_count": 123,
   "id": "sensitive-atlantic",
   "metadata": {},
   "outputs": [],
   "source": [
    "moy_prix = df_train.groupby('ID_ARTC')['PRIX_ORDINAL'].mean()"
   ]
  },
  {
   "cell_type": "code",
   "execution_count": 124,
   "id": "abroad-coast",
   "metadata": {},
   "outputs": [
    {
     "data": {
      "text/plain": [
       "ID_ARTC\n",
       "1        1.962614\n",
       "2        2.000000\n",
       "3        1.248381\n",
       "4        2.004111\n",
       "5        1.000000\n",
       "          ...    \n",
       "2496    12.853002\n",
       "2497     7.000000\n",
       "2498     3.976303\n",
       "2499    13.491865\n",
       "2500    10.382129\n",
       "Name: PRIX_ORDINAL, Length: 2500, dtype: float64"
      ]
     },
     "execution_count": 124,
     "metadata": {},
     "output_type": "execute_result"
    }
   ],
   "source": [
    "moy_prix"
   ]
  },
  {
   "cell_type": "code",
   "execution_count": 127,
   "id": "enhanced-speech",
   "metadata": {},
   "outputs": [
    {
     "data": {
      "text/plain": [
       "-0.21303256604627677"
      ]
     },
     "execution_count": 127,
     "metadata": {},
     "output_type": "execute_result"
    }
   ],
   "source": [
    "corr, _ = pearsonr(qte, moy_prix)\n",
    "corr"
   ]
  },
  {
   "cell_type": "code",
   "execution_count": 129,
   "id": "available-microphone",
   "metadata": {},
   "outputs": [
    {
     "data": {
      "image/png": "[encoded data removed]",
      "text/plain": [
       "<Figure size 1440x720 with 1 Axes>"
      ]
     },
     "metadata": {
      "needs_background": "light"
     },
     "output_type": "display_data"
    }
   ],
   "source": [
    "plt.figure(figsize=(20, 10))\n",
    "\n",
    "plt.scatter(qte, moy_prix)\n",
    "\n",
    "plt.xlabel('Quantité vendue')\n",
    "plt.ylabel('Moyenne des prix')\n",
    "plt.show()"
   ]
  },
  {
   "cell_type": "markdown",
   "id": "arranged-graduate",
   "metadata": {},
   "source": [
    "# 7. Lien entre la vocation et la superficie/nbre de caisses"
   ]
  },
  {
   "cell_type": "code",
   "execution_count": 140,
   "id": "organizational-ideal",
   "metadata": {},
   "outputs": [
    {
     "data": {
      "text/plain": [
       "Index(['ID_PDV', 'ID_VOCT', 'ID_REGN', 'NB_CAIS_GRP', 'SURF_GRP',\n",
       "       'CAISSE_ORDINAL', 'SURFACE_ORDINAL'],\n",
       "      dtype='object')"
      ]
     },
     "execution_count": 140,
     "metadata": {},
     "output_type": "execute_result"
    }
   ],
   "source": [
    "df_pdv.columns"
   ]
  },
  {
   "cell_type": "code",
   "execution_count": 146,
   "id": "defined-limit",
   "metadata": {},
   "outputs": [
    {
     "data": {
      "image/png": "[encoded data removed]",
      "text/plain": [
       "<Figure size 1440x720 with 1 Axes>"
      ]
     },
     "metadata": {
      "needs_background": "light"
     },
     "output_type": "display_data"
    },
    {
     "data": {
      "image/png": "[encoded data removed]",
      "text/plain": [
       "<Figure size 1440x720 with 1 Axes>"
      ]
     },
     "metadata": {
      "needs_background": "light"
     },
     "output_type": "display_data"
    }
   ],
   "source": [
    "plt.figure(figsize=(20, 10))\n",
    "sns.boxplot(data=df_pdv, x='ID_VOCT', y='CAISSE_ORDINAL')\n",
    "plt.title('Boxplot du groupement de nombre de caisses en fonction de la vocation')\n",
    "\n",
    "plt.figure(figsize=(20, 10))\n",
    "sns.boxplot(data=df_pdv, x='ID_VOCT', y='SURFACE_ORDINAL')\n",
    "plt.title('Boxplot du groupement de nombre de superficie en fonction de la vocation')\n",
    "\n",
    "plt.show()"
   ]
  },
  {
   "cell_type": "code",
   "execution_count": 162,
   "id": "radio-president",
   "metadata": {},
   "outputs": [
    {
     "data": {
      "image/png": "[encoded data removed]",
      "text/plain": [
       "<Figure size 1440x720 with 1 Axes>"
      ]
     },
     "metadata": {
      "needs_background": "light"
     },
     "output_type": "display_data"
    },
    {
     "data": {
      "image/png": "[encoded data removed]",
      "text/plain": [
       "<Figure size 1440x720 with 1 Axes>"
      ]
     },
     "metadata": {
      "needs_background": "light"
     },
     "output_type": "display_data"
    }
   ],
   "source": [
    "plt.figure(figsize=(20, 10))\n",
    "sns.histplot(data=df_pdv, x='CAISSE_ORDINAL', hue='ID_VOCT', multiple='stack')\n",
    "plt.title('Histogramme du groupement de nombre de caisses en fonction de la vocation')\n",
    "plt.xticks(list(range(1, 6)), list(range(1, 6)))\n",
    "\n",
    "plt.figure(figsize=(20, 10))\n",
    "sns.histplot(data=df_pdv, x='SURFACE_ORDINAL', hue='ID_VOCT', multiple='stack')\n",
    "plt.title('Histogramme du groupement de nombre de caisses en fonction de la vocation')\n",
    "plt.xticks(list(range(1, 6)), list(range(1, 6)))\n",
    "\n",
    "plt.show()"
   ]
  },
  {
   "cell_type": "code",
   "execution_count": null,
   "id": "increasing-hawaiian",
   "metadata": {},
   "outputs": [],
   "source": []
  },
  {
   "cell_type": "code",
   "execution_count": null,
   "id": "dimensional-fetish",
   "metadata": {},
   "outputs": [],
   "source": []
  },
  {
   "cell_type": "code",
   "execution_count": null,
   "id": "constant-affiliate",
   "metadata": {},
   "outputs": [],
   "source": []
  },
  {
   "cell_type": "code",
   "execution_count": null,
   "id": "laughing-potato",
   "metadata": {},
   "outputs": [],
   "source": []
  },
  {
   "cell_type": "code",
   "execution_count": null,
   "id": "infectious-filename",
   "metadata": {},
   "outputs": [],
   "source": []
  },
  {
   "cell_type": "code",
   "execution_count": null,
   "id": "signal-photography",
   "metadata": {},
   "outputs": [],
   "source": []
  }
 ],
 "metadata": {
  "kernelspec": {
   "display_name": "Python 3",
   "language": "python",
   "name": "python3"
  },
  "language_info": {
   "codemirror_mode": {
    "name": "ipython",
    "version": 3
   },
   "file_extension": ".py",
   "mimetype": "text/x-python",
   "name": "python",
   "nbconvert_exporter": "python",
   "pygments_lexer": "ipython3",
   "version": "3.8.8"
  }
 },
 "nbformat": 4,
 "nbformat_minor": 5
}
